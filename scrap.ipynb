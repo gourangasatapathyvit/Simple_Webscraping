{
  "nbformat": 4,
  "nbformat_minor": 0,
  "metadata": {
    "colab": {
      "name": "test.ipynb",
      "provenance": [],
      "collapsed_sections": []
    },
    "kernelspec": {
      "name": "python3",
      "display_name": "Python 3"
    },
    "language_info": {
      "name": "python"
    }
  },
  "cells": [
    {
      "cell_type": "code",
      "metadata": {
        "id": "aZPXdZaBlz-l"
      },
      "source": [
        "import requests\n",
        "from bs4 import BeautifulSoup as soup\n",
        "import pandas as pd"
      ],
      "execution_count": 95,
      "outputs": []
    },
    {
      "cell_type": "code",
      "metadata": {
        "id": "ufnsIUgMxnto"
      },
      "source": [
        "header = {'Origin': 'https://www.1mg.com',\n",
        "'Referer': 'https://www.1mg.com/drugs-all-medicines',\n",
        "'User-Agent': 'Mozilla/5.0 (Windows NT 10.0; WOW64) AppleWebKit/537.36 (KHTML, like Gecko) Chrome/83.0.4103.97 Safari/537.36'\n",
        "}\n",
        "\n",
        "url = 'https://www.1mg.com/drugs-all-medicines'"
      ],
      "execution_count": 10,
      "outputs": []
    },
    {
      "cell_type": "code",
      "metadata": {
        "colab": {
          "base_uri": "https://localhost:8080/"
        },
        "id": "zzHwnZjQxoSM",
        "outputId": "74e086cc-d5e1-4f55-a338-80cefd3c5a3d"
      },
      "source": [
        "html = requests.get(url=url,headers=header)\n",
        "html.status_code"
      ],
      "execution_count": 11,
      "outputs": [
        {
          "output_type": "execute_result",
          "data": {
            "text/plain": [
              "200"
            ]
          },
          "metadata": {
            "tags": []
          },
          "execution_count": 11
        }
      ]
    },
    {
      "cell_type": "code",
      "metadata": {
        "id": "IzrRwNDKzETL"
      },
      "source": [
        "# creating base object\n",
        "baseobj = soup(html.content, 'lxml')"
      ],
      "execution_count": 16,
      "outputs": []
    },
    {
      "cell_type": "code",
      "metadata": {
        "id": "WadBtgFPzEX0"
      },
      "source": [
        "baseobj.findAll('div',{'class':'style__font-bold___1k9Dl style__font-14px___YZZrf style__flex-row___2AKyf style__space-between___2mbvn style__padding-bottom-5px___2NrDR'})"
      ],
      "execution_count": null,
      "outputs": []
    },
    {
      "cell_type": "code",
      "metadata": {
        "id": "JXpS2JFjzEb5"
      },
      "source": [
        "product_name = []\n",
        "for name in baseobj.findAll('div',{'class':'style__font-bold___1k9Dl style__font-14px___YZZrf style__flex-row___2AKyf style__space-between___2mbvn style__padding-bottom-5px___2NrDR'}):\n",
        "  product_name.append(str(name.text.strip().split('MRP')[0]))"
      ],
      "execution_count": 105,
      "outputs": []
    },
    {
      "cell_type": "code",
      "metadata": {
        "colab": {
          "base_uri": "https://localhost:8080/"
        },
        "id": "Rk0muL5EzEgL",
        "outputId": "1d386bb3-8c55-4ffa-ed10-c32c936c3218"
      },
      "source": [
        "product_name[0:10]"
      ],
      "execution_count": 103,
      "outputs": [
        {
          "output_type": "execute_result",
          "data": {
            "text/plain": [
              "[\"['Augmentin 625 Duo Tablet', '₹201.71']\",\n",
              " \"['Ascoril D Plus Syrup Sugar Free', '₹118']\",\n",
              " \"['Azithral 500 Tablet', '₹119.5']\",\n",
              " \"['Allegra 180mg Tablet', '₹217.48']\",\n",
              " \"['Ascoril LS Syrup', '₹108']\",\n",
              " \"['Allegra 120mg Tablet', '₹184.97']\",\n",
              " \"['Avil 25 Tablet', '₹9.07']\",\n",
              " \"['Azee 500 Tablet', '₹119.5']\",\n",
              " \"['Aciloc 150 Tablet', '₹36.96']\",\n",
              " \"['Atarax 25mg Tablet', '₹77.75']\"]"
            ]
          },
          "metadata": {
            "tags": []
          },
          "execution_count": 103
        }
      ]
    },
    {
      "cell_type": "code",
      "metadata": {
        "id": "r69R89sMzEjN"
      },
      "source": [
        "pack_size = []\n",
        "\n",
        "for size in baseobj.findAll('div', {'class': 'style__padding-bottom-5px___2NrDR'}):\n",
        "  pack_size.append(size.text.strip().split('MRP')[0])"
      ],
      "execution_count": 88,
      "outputs": []
    },
    {
      "cell_type": "code",
      "metadata": {
        "id": "H-jd9N9-zEmR"
      },
      "source": [
        "ll = []\n",
        "c =1\n",
        "for i in range(0,len(pack_size)):\n",
        "  if c<=len(pack_size):\n",
        "    ll.append(pack_size[c])\n",
        "  c+=4\n",
        "pack_size=ll"
      ],
      "execution_count": 89,
      "outputs": []
    },
    {
      "cell_type": "code",
      "metadata": {
        "id": "UIpIAlCNzEpg"
      },
      "source": [
        "rates = []\n",
        "for name in baseobj.findAll('div',{'class':'style__font-bold___1k9Dl style__font-14px___YZZrf style__flex-row___2AKyf style__space-between___2mbvn style__padding-bottom-5px___2NrDR'}):\n",
        "  rates.append(str(name.text.strip().split('MRP')[1]))"
      ],
      "execution_count": 108,
      "outputs": []
    },
    {
      "cell_type": "code",
      "metadata": {
        "id": "aDCXaQ9mzEsa"
      },
      "source": [
        "dict = {\"madicine name\":product_name,\"size\":pack_size,\"rate\":rates}\n",
        "df = pd.DataFrame(dict)"
      ],
      "execution_count": 113,
      "outputs": []
    },
    {
      "cell_type": "code",
      "metadata": {
        "colab": {
          "base_uri": "https://localhost:8080/",
          "height": 973
        },
        "id": "M42JEjOkzEwP",
        "outputId": "505b207b-15b0-47ae-d3fc-fdec724b9a98"
      },
      "source": [
        "df"
      ],
      "execution_count": 114,
      "outputs": [
        {
          "output_type": "execute_result",
          "data": {
            "text/html": [
              "<div>\n",
              "<style scoped>\n",
              "    .dataframe tbody tr th:only-of-type {\n",
              "        vertical-align: middle;\n",
              "    }\n",
              "\n",
              "    .dataframe tbody tr th {\n",
              "        vertical-align: top;\n",
              "    }\n",
              "\n",
              "    .dataframe thead th {\n",
              "        text-align: right;\n",
              "    }\n",
              "</style>\n",
              "<table border=\"1\" class=\"dataframe\">\n",
              "  <thead>\n",
              "    <tr style=\"text-align: right;\">\n",
              "      <th></th>\n",
              "      <th>madicine name</th>\n",
              "      <th>size</th>\n",
              "      <th>rate</th>\n",
              "    </tr>\n",
              "  </thead>\n",
              "  <tbody>\n",
              "    <tr>\n",
              "      <th>0</th>\n",
              "      <td>Augmentin 625 Duo Tablet</td>\n",
              "      <td>strip of 10 tablets</td>\n",
              "      <td>₹201.71</td>\n",
              "    </tr>\n",
              "    <tr>\n",
              "      <th>1</th>\n",
              "      <td>Ascoril D Plus Syrup Sugar Free</td>\n",
              "      <td>bottle of 100 ml Syrup</td>\n",
              "      <td>₹118</td>\n",
              "    </tr>\n",
              "    <tr>\n",
              "      <th>2</th>\n",
              "      <td>Azithral 500 Tablet</td>\n",
              "      <td>strip of 5 tablets</td>\n",
              "      <td>₹119.5</td>\n",
              "    </tr>\n",
              "    <tr>\n",
              "      <th>3</th>\n",
              "      <td>Allegra 180mg Tablet</td>\n",
              "      <td>strip of 10 tablets</td>\n",
              "      <td>₹217.48</td>\n",
              "    </tr>\n",
              "    <tr>\n",
              "      <th>4</th>\n",
              "      <td>Ascoril LS Syrup</td>\n",
              "      <td>bottle of 100 ml Syrup</td>\n",
              "      <td>₹108</td>\n",
              "    </tr>\n",
              "    <tr>\n",
              "      <th>5</th>\n",
              "      <td>Allegra 120mg Tablet</td>\n",
              "      <td>strip of 10 tablets</td>\n",
              "      <td>₹184.97</td>\n",
              "    </tr>\n",
              "    <tr>\n",
              "      <th>6</th>\n",
              "      <td>Avil 25 Tablet</td>\n",
              "      <td>strip of 15 tablets</td>\n",
              "      <td>₹9.07</td>\n",
              "    </tr>\n",
              "    <tr>\n",
              "      <th>7</th>\n",
              "      <td>Azee 500 Tablet</td>\n",
              "      <td>strip of 5 tablets</td>\n",
              "      <td>₹119.5</td>\n",
              "    </tr>\n",
              "    <tr>\n",
              "      <th>8</th>\n",
              "      <td>Aciloc 150 Tablet</td>\n",
              "      <td>strip of 30 tablets</td>\n",
              "      <td>₹36.96</td>\n",
              "    </tr>\n",
              "    <tr>\n",
              "      <th>9</th>\n",
              "      <td>Atarax 25mg Tablet</td>\n",
              "      <td>strip of 15 tablets</td>\n",
              "      <td>₹77.75</td>\n",
              "    </tr>\n",
              "    <tr>\n",
              "      <th>10</th>\n",
              "      <td>Allegra-M Tablet</td>\n",
              "      <td>strip of 10 tablets</td>\n",
              "      <td>₹219.54</td>\n",
              "    </tr>\n",
              "    <tr>\n",
              "      <th>11</th>\n",
              "      <td>Anovate Cream</td>\n",
              "      <td>tube of 20 gm Cream</td>\n",
              "      <td>₹111</td>\n",
              "    </tr>\n",
              "    <tr>\n",
              "      <th>12</th>\n",
              "      <td>Alex Syrup</td>\n",
              "      <td>bottle of 100 ml Syrup</td>\n",
              "      <td>₹118</td>\n",
              "    </tr>\n",
              "    <tr>\n",
              "      <th>13</th>\n",
              "      <td>Arkamin Tablet</td>\n",
              "      <td>strip of 30 tablets</td>\n",
              "      <td>₹66.05</td>\n",
              "    </tr>\n",
              "    <tr>\n",
              "      <th>14</th>\n",
              "      <td>Amoxyclav 625 Tablet</td>\n",
              "      <td>strip of 6 tablets</td>\n",
              "      <td>₹113.25</td>\n",
              "    </tr>\n",
              "    <tr>\n",
              "      <th>15</th>\n",
              "      <td>Alprax 0.25 Tablet</td>\n",
              "      <td>strip of 15 tablets</td>\n",
              "      <td>₹26.4</td>\n",
              "    </tr>\n",
              "    <tr>\n",
              "      <th>16</th>\n",
              "      <td>Asthakind-DX Syrup Sugar Free</td>\n",
              "      <td>bottle of 60 ml Syrup</td>\n",
              "      <td>₹60</td>\n",
              "    </tr>\n",
              "    <tr>\n",
              "      <th>17</th>\n",
              "      <td>Augmentin Duo Oral Suspension</td>\n",
              "      <td>bottle of 30 ml Oral Suspension</td>\n",
              "      <td>₹60.82</td>\n",
              "    </tr>\n",
              "    <tr>\n",
              "      <th>18</th>\n",
              "      <td>Avomine Tablet</td>\n",
              "      <td>strip of 10 tablets</td>\n",
              "      <td>₹46.27</td>\n",
              "    </tr>\n",
              "    <tr>\n",
              "      <th>19</th>\n",
              "      <td>Acnesol Gel</td>\n",
              "      <td>tube of 20 gm Gel</td>\n",
              "      <td>₹80</td>\n",
              "    </tr>\n",
              "    <tr>\n",
              "      <th>20</th>\n",
              "      <td>Altraday Capsule SR</td>\n",
              "      <td>strip of 10 capsule sr</td>\n",
              "      <td>₹112</td>\n",
              "    </tr>\n",
              "    <tr>\n",
              "      <th>21</th>\n",
              "      <td>Ambrodil-S Syrup</td>\n",
              "      <td>bottle of 100 ml Syrup</td>\n",
              "      <td>₹27.6</td>\n",
              "    </tr>\n",
              "    <tr>\n",
              "      <th>22</th>\n",
              "      <td>Amlokind-AT Tablet</td>\n",
              "      <td>strip of 10 tablets</td>\n",
              "      <td>₹27.1</td>\n",
              "    </tr>\n",
              "    <tr>\n",
              "      <th>23</th>\n",
              "      <td>Axcer  90mg Tablet</td>\n",
              "      <td>strip of 14 tablets</td>\n",
              "      <td>₹420</td>\n",
              "    </tr>\n",
              "    <tr>\n",
              "      <th>24</th>\n",
              "      <td>Ativan 2mg Tablet</td>\n",
              "      <td>strip of 30 tablets</td>\n",
              "      <td>₹82.55</td>\n",
              "    </tr>\n",
              "    <tr>\n",
              "      <th>25</th>\n",
              "      <td>Aldactone Tablet</td>\n",
              "      <td>strip of 15 tablets</td>\n",
              "      <td>₹31.95</td>\n",
              "    </tr>\n",
              "    <tr>\n",
              "      <th>26</th>\n",
              "      <td>A-Ret 0.05% Gel</td>\n",
              "      <td>tube of 20 gm Gel</td>\n",
              "      <td>₹118</td>\n",
              "    </tr>\n",
              "    <tr>\n",
              "      <th>27</th>\n",
              "      <td>Alprax 0.5mg Tablet SR</td>\n",
              "      <td>strip of 15 tablet sr</td>\n",
              "      <td>₹55.6</td>\n",
              "    </tr>\n",
              "    <tr>\n",
              "      <th>28</th>\n",
              "      <td>Alfoo 10mg Tablet PR</td>\n",
              "      <td>strip of 30 Tablet pr</td>\n",
              "      <td>₹625.25</td>\n",
              "    </tr>\n",
              "    <tr>\n",
              "      <th>29</th>\n",
              "      <td>Amoxycillin 500mg Capsule</td>\n",
              "      <td>strip of 10 capsules</td>\n",
              "      <td>₹31.9</td>\n",
              "    </tr>\n",
              "  </tbody>\n",
              "</table>\n",
              "</div>"
            ],
            "text/plain": [
              "                      madicine name                             size     rate\n",
              "0          Augmentin 625 Duo Tablet              strip of 10 tablets  ₹201.71\n",
              "1   Ascoril D Plus Syrup Sugar Free           bottle of 100 ml Syrup     ₹118\n",
              "2               Azithral 500 Tablet               strip of 5 tablets   ₹119.5\n",
              "3              Allegra 180mg Tablet              strip of 10 tablets  ₹217.48\n",
              "4                  Ascoril LS Syrup           bottle of 100 ml Syrup     ₹108\n",
              "5              Allegra 120mg Tablet              strip of 10 tablets  ₹184.97\n",
              "6                    Avil 25 Tablet              strip of 15 tablets    ₹9.07\n",
              "7                   Azee 500 Tablet               strip of 5 tablets   ₹119.5\n",
              "8                 Aciloc 150 Tablet              strip of 30 tablets   ₹36.96\n",
              "9                Atarax 25mg Tablet              strip of 15 tablets   ₹77.75\n",
              "10                 Allegra-M Tablet              strip of 10 tablets  ₹219.54\n",
              "11                    Anovate Cream              tube of 20 gm Cream     ₹111\n",
              "12                       Alex Syrup           bottle of 100 ml Syrup     ₹118\n",
              "13                   Arkamin Tablet              strip of 30 tablets   ₹66.05\n",
              "14             Amoxyclav 625 Tablet               strip of 6 tablets  ₹113.25\n",
              "15               Alprax 0.25 Tablet              strip of 15 tablets    ₹26.4\n",
              "16    Asthakind-DX Syrup Sugar Free            bottle of 60 ml Syrup      ₹60\n",
              "17    Augmentin Duo Oral Suspension  bottle of 30 ml Oral Suspension   ₹60.82\n",
              "18                   Avomine Tablet              strip of 10 tablets   ₹46.27\n",
              "19                      Acnesol Gel                tube of 20 gm Gel      ₹80\n",
              "20              Altraday Capsule SR           strip of 10 capsule sr     ₹112\n",
              "21                 Ambrodil-S Syrup           bottle of 100 ml Syrup    ₹27.6\n",
              "22               Amlokind-AT Tablet              strip of 10 tablets    ₹27.1\n",
              "23               Axcer  90mg Tablet              strip of 14 tablets     ₹420\n",
              "24                Ativan 2mg Tablet              strip of 30 tablets   ₹82.55\n",
              "25                 Aldactone Tablet              strip of 15 tablets   ₹31.95\n",
              "26                  A-Ret 0.05% Gel                tube of 20 gm Gel     ₹118\n",
              "27           Alprax 0.5mg Tablet SR            strip of 15 tablet sr    ₹55.6\n",
              "28             Alfoo 10mg Tablet PR            strip of 30 Tablet pr  ₹625.25\n",
              "29        Amoxycillin 500mg Capsule             strip of 10 capsules    ₹31.9"
            ]
          },
          "metadata": {
            "tags": []
          },
          "execution_count": 114
        }
      ]
    },
    {
      "cell_type": "code",
      "metadata": {
        "id": "9XX8tyKgzE0V"
      },
      "source": [
        ""
      ],
      "execution_count": null,
      "outputs": []
    },
    {
      "cell_type": "code",
      "metadata": {
        "id": "k-1wfeQdxoU1"
      },
      "source": [
        ""
      ],
      "execution_count": 1,
      "outputs": []
    },
    {
      "cell_type": "code",
      "metadata": {
        "id": "wep_q-KQxoXs"
      },
      "source": [
        ""
      ],
      "execution_count": 1,
      "outputs": []
    },
    {
      "cell_type": "code",
      "metadata": {
        "id": "Qnp7saKhxobe"
      },
      "source": [
        ""
      ],
      "execution_count": 1,
      "outputs": []
    },
    {
      "cell_type": "code",
      "metadata": {
        "id": "mazG91SAxoe3"
      },
      "source": [
        ""
      ],
      "execution_count": null,
      "outputs": []
    }
  ]
}